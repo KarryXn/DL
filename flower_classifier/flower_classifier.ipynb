{
 "cells": [
  {
   "cell_type": "code",
   "execution_count": 11,
   "metadata": {},
   "outputs": [],
   "source": [
    "import torch\n",
    "import torch.nn as nn\n"
   ]
  },
  {
   "cell_type": "code",
   "execution_count": 19,
   "metadata": {},
   "outputs": [],
   "source": [
    "class FlowerClassifier(nn.Module):\n",
    "    def __init__(self, num_classes=102): \n",
    "        super(FlowerClassifier, self).__init__()\n",
    "        self.network = nn.Sequential(\n",
    "            nn.Linear(in_features=224*224*3, out_features=2048),\n",
    "            nn.ReLU(),\n",
    "            nn.Linear(in_features=2048, out_features=1024),\n",
    "            nn.ReLU(),\n",
    "            nn.Linear(in_features=1024, out_features=256),\n",
    "            nn.ReLU(),\n",
    "            nn.Linear(in_features=256, out_features=102)\n",
    "        )\n",
    "    \n",
    "    def forward(self, xs):\n",
    "        xs = xs.view(xs.size(0), -1) \n",
    "        ys_logit = self.network(xs)\n",
    "        return ys_logit\n",
    "\n"
   ]
  },
  {
   "cell_type": "code",
   "execution_count": 18,
   "metadata": {},
   "outputs": [
    {
     "name": "stdout",
     "output_type": "stream",
     "text": [
      "torch.Size([128, 102])\n"
     ]
    }
   ],
   "source": [
    "if __name__ == '__main__':\n",
    "    model = FlowerClassifier(num_classes=32)\n",
    "    xs= torch.randn(128,3,224,224)\n",
    "    ys_logit = model(xs)\n",
    "    print(ys_logit.shape)"
   ]
  },
  {
   "cell_type": "code",
   "execution_count": null,
   "metadata": {},
   "outputs": [],
   "source": []
  }
 ],
 "metadata": {
  "kernelspec": {
   "display_name": "base",
   "language": "python",
   "name": "python3"
  },
  "language_info": {
   "codemirror_mode": {
    "name": "ipython",
    "version": 3
   },
   "file_extension": ".py",
   "mimetype": "text/x-python",
   "name": "python",
   "nbconvert_exporter": "python",
   "pygments_lexer": "ipython3",
   "version": "3.11.5"
  }
 },
 "nbformat": 4,
 "nbformat_minor": 2
}
