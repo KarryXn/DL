{
 "cells": [
  {
   "cell_type": "code",
   "execution_count": 6,
   "metadata": {},
   "outputs": [],
   "source": [
    "import torch\n",
    "import torch.nn as nn"
   ]
  },
  {
   "cell_type": "code",
   "execution_count": 9,
   "metadata": {},
   "outputs": [],
   "source": [
    "class AlexNet(nn.Module):\n",
    "    \n",
    "    def __init__(self,num_classses):\n",
    "        super(AlexNet,self).__init__()#执行父类\n",
    "        \n",
    "        #构建网络结构\n",
    "        #第一层conv 11*11 s4,96/ReLU\n",
    "        self.conv1 =nn.Conv2d(in_channels=3,out_channels=96,kernel_size=11,stride=4)\n",
    "        self.relu1 = nn.ReLU()\n",
    "\n",
    "        self.norm1 =nn.LocalResponseNorm(size=5)\n",
    "\n",
    "        self.pool1 =nn.MaxPool2d(kernel_size=3,stride=2)\n",
    "\n",
    "\n",
    "        self.conv2 =nn.Conv2d(in_channels=96,out_channels=256,kernel_size=5,stride=1)\n",
    "        self.relu2 = nn.ReLU()\n",
    "\n",
    "        self.norm2 =nn.LocalResponseNorm(size=5)\n",
    "        self.pool2 =nn.MaxPool2d(kernel_size=3,stride=2)\n",
    "\n",
    "        self.conv3 =nn.Conv2d(in_channels=256,out_channels=384,kernel_size=3,stride=1)\n",
    "        self.relu3 = nn.ReLU()\n",
    "\n",
    "        self.conv4 =nn.Conv2d(in_channels=384,out_channels=384,kernel_size=3,stride=1)\n",
    "        self.relu4 = nn.ReLU()\n",
    "\n",
    "        self.conv5 =nn.Conv2d(in_channels=384,out_channels=256,kernel_size=3,stride=1)\n",
    "        self.relu5 = nn.ReLU()\n",
    "\n",
    "        self.pool3 = nn.AdaptiveAvgPool2d((4,4))\n",
    "        self.fc1 =nn.Linear(in_features=4*4*256,out_features=4096)\n",
    "        self.relu6 =nn.ReLU()\n",
    "\n",
    "        self.fc2 =nn.Linear(in_features=4096,out_features=4096)\n",
    "        self.relu7 =nn.ReLU()\n",
    "\n",
    "        self.logit = nn.Linear(in_features=4096,out_features=num_classses)\n",
    "def forward(self,x):\n",
    "    x = self.norm1(self.relu1(self.conv1(x)))\n",
    "    x=self.pool1(x)\n",
    "    x = self.norm2(self.relu1(self.conv1(x)))\n",
    "    x=self.pool2(x)\n",
    "    x = self.norm1(self.relu2(self.conv2(x)))\n",
    "    x=self.pool2(x)\n",
    "    x =self.relu5(self.conv5(self.relu4(self.conv4(self.relu3*self.conv3(x)))))\n",
    "    x=self.pool3(x)\n",
    "    x = torch.flatten(x,start_dim=1,end_dim=-1)\n",
    "    x = self.relu6(self.fc1(x))\n",
    "    x = self.relu7(self.fc2(x))\n",
    "\n",
    "    return self.logit(x)\n",
    "\n",
    "def count_parameters(model):\n",
    "    return sum(p.numel() for p in model.parameter)\n"
   ]
  },
  {
   "cell_type": "code",
   "execution_count": null,
   "metadata": {},
   "outputs": [],
   "source": []
  }
 ],
 "metadata": {
  "kernelspec": {
   "display_name": "base",
   "language": "python",
   "name": "python3"
  },
  "language_info": {
   "codemirror_mode": {
    "name": "ipython",
    "version": 3
   },
   "file_extension": ".py",
   "mimetype": "text/x-python",
   "name": "python",
   "nbconvert_exporter": "python",
   "pygments_lexer": "ipython3",
   "version": "3.12.4"
  }
 },
 "nbformat": 4,
 "nbformat_minor": 2
}
