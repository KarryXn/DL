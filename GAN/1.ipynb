{
 "cells": [
  {
   "cell_type": "code",
   "execution_count": 2,
   "metadata": {},
   "outputs": [],
   "source": [
    "import torch\n",
    "import torch.nn as nn\n",
    "import torch.optim as optim\n",
    "import torchvision\n",
    "import torchvision.transforms as transforms\n",
    "from torch.utils.data import DataLoader\n",
    "import matplotlib.pyplot as plt\n",
    "import numpy as np\n"
   ]
  },
  {
   "cell_type": "code",
   "execution_count": 3,
   "metadata": {},
   "outputs": [],
   "source": [
    "transform = transforms.Compose([transforms.ToTensor(),transforms.Normalize([0.5],[0.5])])\n",
    "mnist = torchvision.datasets.FashionMNIST(root='./datasets',train=True,download=True,transform=transform)\n",
    "dataloader = DataLoader(mnist,batch_size=128,shuffle=True)"
   ]
  },
  {
   "cell_type": "code",
   "execution_count": 4,
   "metadata": {},
   "outputs": [],
   "source": [
    "dataloader = DataLoader(mnist,batch_size=128,shuffle=True)"
   ]
  },
  {
   "cell_type": "code",
   "execution_count": 5,
   "metadata": {},
   "outputs": [],
   "source": [
    "\n",
    "\n",
    "class Generator(nn.Module):\n",
    "    def __init__(self, input_size=100, hidden_size=128, output_size=28*28):\n",
    "        super(Generator, self).__init__()\n",
    "        self.main = nn.Sequential(\n",
    "            nn.Linear(input_size, hidden_size),\n",
    "            nn.ReLU(True),\n",
    "            nn.Linear(hidden_size, hidden_size * 2),\n",
    "            nn.ReLU(True),\n",
    "            nn.Linear(hidden_size * 2, hidden_size * 4),\n",
    "            nn.ReLU(True),\n",
    "            nn.Linear(hidden_size * 4, output_size),\n",
    "            nn.Tanh()  # 输出范围 [-1, 1]\n",
    "        )\n",
    "    \n",
    "    def forward(self, x):\n",
    "        return self.main(x)\n",
    "\n",
    "class Discriminator(nn.Module):\n",
    "    def __init__(self, input_size=28*28, hidden_size=32):\n",
    "        super(Discriminator, self).__init__()\n",
    "        self.main = nn.Sequential(\n",
    "            nn.Linear(input_size, hidden_size * 4),\n",
    "            nn.LeakyReLU(0.2, inplace=True),\n",
    "            nn.Linear(hidden_size * 4, hidden_size * 2),\n",
    "            nn.LeakyReLU(0.2, inplace=True),\n",
    "            nn.Linear(hidden_size * 2, hidden_size),\n",
    "            nn.LeakyReLU(0.2, inplace=True),\n",
    "            nn.Linear(hidden_size, 1),\n",
    "            nn.Sigmoid()\n",
    "        )\n",
    "    \n",
    "    def forward(self, x):\n",
    "        return self.main(x)"
   ]
  },
  {
   "cell_type": "code",
   "execution_count": 6,
   "metadata": {},
   "outputs": [],
   "source": [
    "# if __name__ == '__main__':\n",
    "#     # 定义生成器和判别器\n",
    "#     G = Generator(input_size=128, hidden_size=128, output_size=28)\n",
    "#     D = Discriminator(input_size=28*28, hidden_size=32)\n",
    "\n",
    "#     # 示例输入\n",
    "#     z = torch.randn(1, 128)  # 噪声输入\n",
    "#     fake_image = G(z)        # 生成的假图像\n",
    "\n",
    "#     # 输出生成器的图像形状\n",
    "#     print(\"生成的图像形状:\", fake_image.shape)  # 应输出 [1, 1, 28, 28]\n",
    "    \n",
    "#     # 将图像展平为 [batch_size, 28*28] 以输入判别器\n",
    "#     fake_image_flat = fake_image.view(-1, 28*28)\n",
    "#     output = D(fake_image_flat)  # 判别器输出\n",
    "#     print(\"判别器输出形状:\", output.shape)  # 应输出 [1, 1]"
   ]
  },
  {
   "cell_type": "code",
   "execution_count": null,
   "metadata": {},
   "outputs": [],
   "source": []
  },
  {
   "cell_type": "code",
   "execution_count": null,
   "metadata": {},
   "outputs": [
    {
     "name": "stdout",
     "output_type": "stream",
     "text": [
      "cuda\n",
      "Epoch [0/50], d_loss: 0.4384, g_loss: 1.8863, D(x): 0.8537, D(G(z)): 0.1798\n"
     ]
    },
    {
     "ename": "",
     "evalue": "",
     "output_type": "error",
     "traceback": [
      "\u001b[1;31m在当前单元格或上一个单元格中执行代码时 Kernel 崩溃。\n",
      "\u001b[1;31m请查看单元格中的代码，以确定故障的可能原因。\n",
      "\u001b[1;31m单击<a href='https://aka.ms/vscodeJupyterKernelCrash'>此处</a>了解详细信息。\n",
      "\u001b[1;31m有关更多详细信息，请查看 Jupyter <a href='command:jupyter.viewOutput'>log</a>。"
     ]
    }
   ],
   "source": [
    "def imshow(img):\n",
    "    img = img / 2 + 0.5  # 逆归一化\n",
    "    npimg = img.numpy()\n",
    "    plt.imshow(npimg, cmap='gray')  # 使用灰度显示\n",
    "    plt.show()\n",
    "\n",
    "if __name__ == '__main__':\n",
    "    G = Generator(input_size=100, hidden_size=128, output_size=28*28)\n",
    "    D = Discriminator(input_size=28*28, hidden_size=32)\n",
    "    device = torch.device(\"cuda\" if torch.cuda.is_available() else \"cpu\")\n",
    "    print(device)\n",
    "    G.to(device)\n",
    "    D.to(device)\n",
    "    \n",
    "    transform = transforms.Compose([transforms.ToTensor(), transforms.Normalize([0.5], [0.5])])\n",
    "    mnist = torchvision.datasets.FashionMNIST(root='./datasets', train=True, download=True, transform=transform)\n",
    "    dataloader = DataLoader(mnist, batch_size=32, shuffle=True)\n",
    "    \n",
    "    criterion = nn.BCELoss()\n",
    "    learning_rate = 0.0002\n",
    "\n",
    "    # 优化器\n",
    "    optimizer_g = optim.Adam(G.parameters(), lr=learning_rate)\n",
    "    optimizer_d = optim.Adam(D.parameters(), lr=learning_rate)\n",
    "    num_epochs = 50\n",
    "    \n",
    "    for epoch in range(num_epochs):\n",
    "        for i, (images, _) in enumerate(dataloader):\n",
    "            # 准备真实数据和生成器输入\n",
    "            images = images.view(images.size(0), -1).to(device)  # 展平图像\n",
    "            real_labels = torch.ones(images.size(0), 1).to(device)\n",
    "            fake_labels = torch.zeros(images.size(0), 1).to(device)\n",
    "            \n",
    "            # 训练判别器\n",
    "            outputs = D(images)\n",
    "            d_loss_real = criterion(outputs, real_labels)\n",
    "            real_score = outputs\n",
    "            \n",
    "            # 生成假图像\n",
    "            z = torch.randn(images.size(0), 100).to(device)\n",
    "            fake_images = G(z)\n",
    "            outputs = D(fake_images.detach())\n",
    "            d_loss_fake = criterion(outputs, fake_labels)\n",
    "            fake_score = outputs\n",
    "            \n",
    "            # 总判别器损失并反向传播\n",
    "            d_loss = d_loss_real + d_loss_fake\n",
    "            optimizer_d.zero_grad()\n",
    "            d_loss.backward()\n",
    "            optimizer_d.step()\n",
    "            \n",
    "            # 训练生成器\n",
    "            outputs = D(fake_images)\n",
    "            g_loss = criterion(outputs, real_labels)\n",
    "            \n",
    "            optimizer_g.zero_grad()\n",
    "            g_loss.backward()\n",
    "            optimizer_g.step()\n",
    "            \n",
    "            # 每100个batch打印一次损失\n",
    "            \n",
    "        print(f'Epoch [{epoch}/{num_epochs}], '\n",
    "                f'd_loss: {d_loss.item():.4f}, g_loss: {g_loss.item():.4f}, '\n",
    "                f'D(x): {real_score.mean().item():.4f}, D(G(z)): {fake_score.mean().item():.4f}')\n",
    "        \n",
    "         # 显示生成的图像\n",
    "        with torch.no_grad():\n",
    "            z = torch.randn(1, 100).to(device)  # 使用单个随机噪声生成一张图像\n",
    "            fake_image = G(z).view(28, 28).cpu()\n",
    "            imshow(fake_image)"
   ]
  },
  {
   "cell_type": "code",
   "execution_count": null,
   "metadata": {},
   "outputs": [],
   "source": []
  }
 ],
 "metadata": {
  "kernelspec": {
   "display_name": "base",
   "language": "python",
   "name": "python3"
  },
  "language_info": {
   "codemirror_mode": {
    "name": "ipython",
    "version": 3
   },
   "file_extension": ".py",
   "mimetype": "text/x-python",
   "name": "python",
   "nbconvert_exporter": "python",
   "pygments_lexer": "ipython3",
   "version": "3.12.4"
  }
 },
 "nbformat": 4,
 "nbformat_minor": 2
}
